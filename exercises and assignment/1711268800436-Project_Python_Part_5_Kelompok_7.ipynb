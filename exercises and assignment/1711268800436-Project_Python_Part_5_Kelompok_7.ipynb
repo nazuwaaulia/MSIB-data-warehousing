{
  "nbformat": 4,
  "nbformat_minor": 0,
  "metadata": {
    "colab": {
      "provenance": []
    },
    "kernelspec": {
      "name": "python3",
      "display_name": "Python 3"
    },
    "language_info": {
      "name": "python"
    }
  },
  "cells": [
    {
      "cell_type": "markdown",
      "source": [
        "# Project Python Part 5 (Kelompok 7)\n",
        "\n",
        "Anggota Kelompok :\n",
        "\n",
        "\n",
        "1. Adhytia Mahardhyka Putra Susanto\n",
        "2. Balkis Budi Islamiati\n",
        "3. Nazuwa Aulia\n",
        "4. Sarah Nurmalawati\n"
      ],
      "metadata": {
        "id": "RTPP_SicRZUe"
      }
    },
    {
      "cell_type": "markdown",
      "source": [
        "# Task 1: Basic OOP\n",
        "\n",
        "\n",
        "#### Buatlah class MarketingDataETL yang memiliki tiga metode:\n",
        "\n",
        "*   extract(): akan membaca data dari sebuah file CSV (Misalkan, marketing_data.csv)\n",
        "*   transform(): akan melakukan pembersihan dan transformasi sederhana pada data (seperti mengubah format tanggal atau membersihkan nilai yang kosong)\n",
        "*   store(): akan menyimpan data yang telah ditransformasi ke dalam struktur data DataFramet.\n"
      ],
      "metadata": {
        "id": "CZrQ27hVOmxc"
      }
    },
    {
      "cell_type": "code",
      "source": [
        "import pandas as pd\n",
        "\n",
        "class MarketingDataETL():\n",
        "    def __init__(self):\n",
        "        self.data = pd.read_csv(\"marketing_data.csv\", sep=';')\n",
        "\n",
        "    def extract(self):\n",
        "        print(\"Data Before Transform:\")\n",
        "        print(self.data)\n",
        "        return self.data\n",
        "\n",
        "    def transform(self):\n",
        "        if 'purchase_date' in self.data.columns:\n",
        "            self.data.dropna(subset=['purchase_date'], inplace=True)\n",
        "            self.data['purchase_date'] = pd.to_datetime(self.data['purchase_date'], errors='coerce')\n",
        "            print(\"Data After Transform:\")\n",
        "            print(self.data)\n",
        "        return self.data\n",
        "\n",
        "    def store(self):\n",
        "        if hasattr(self, 'data'):\n",
        "            self.data.to_csv('marketing_data_processed.csv', index=False)\n",
        "            print(\"Data stored successfully as CSV.\")\n",
        "        else:\n",
        "            print(\"Data storage failed. Please check the file and try again.\")\n",
        "\n",
        "data = MarketingDataETL()\n",
        "data_before_transform = data.extract()\n",
        "data_after_transform = data.transform()\n",
        "data.store()"
      ],
      "metadata": {
        "colab": {
          "base_uri": "https://localhost:8080/"
        },
        "id": "sj09T-2WdgJP",
        "outputId": "efeed621-ee5f-4e7b-b880-de46bddfbf54"
      },
      "execution_count": null,
      "outputs": [
        {
          "output_type": "stream",
          "name": "stdout",
          "text": [
            "Data Before Transform:\n",
            "  customer_id purchase_date product_category  amount_spent\n",
            "0        C001      01/03/23      Electronics        250.00\n",
            "1        C002      02/03/23            Books         45.50\n",
            "2        C003      03/03/23    Home & Garden        150.75\n",
            "3        C001      04/03/23            Books         20.00\n",
            "4        C002      05/03/23      Electronics        525.00\n",
            "5        C004           NaN      Electronics        399.99\n",
            "6        C003           NaN            Books         10.50\n",
            "7        C005      07/03/23           Beauty         75.00\n",
            "Data After Transform:\n",
            "  customer_id purchase_date product_category  amount_spent\n",
            "0        C001    2023-01-03      Electronics        250.00\n",
            "1        C002    2023-02-03            Books         45.50\n",
            "2        C003    2023-03-03    Home & Garden        150.75\n",
            "3        C001    2023-04-03            Books         20.00\n",
            "4        C002    2023-05-03      Electronics        525.00\n",
            "7        C005    2023-07-03           Beauty         75.00\n",
            "Data stored successfully as CSV.\n"
          ]
        }
      ]
    },
    {
      "cell_type": "markdown",
      "source": [
        "# Task 2 : Inheritance & Polymorphism\n",
        "\n",
        "* Gunakan inheritance untuk membuat class TargetedMarketingETL yang mewarisi dari MarketingDataETL.\n",
        "\n",
        "*   Tambahkan metode segment_customers() yang mengelompokkan pelanggan berdasarkan kriteria tertentu (misalnya, pengeluaran total atau kategori produk yang dibeli).\n",
        "\n",
        "*   Demonstrasi polymorphism dengan meng-override metode transform() dalam TargetedMarketingETL untuk menambahkan logika segmentasi pelanggan ke dalam proses transformasi."
      ],
      "metadata": {
        "id": "3sPxPVTnPrON"
      }
    },
    {
      "cell_type": "code",
      "source": [
        "import numpy as np\n",
        "\n",
        "class MarketingDataETL():\n",
        "    def __init__(self):\n",
        "        self.data = pd.read_csv('marketing_data.csv', sep=';')\n",
        "\n",
        "    def extract(self):\n",
        "        print(\"Data Before Transform:\")\n",
        "        print(self.data)\n",
        "        return self.data\n",
        "\n",
        "    def transform(self):\n",
        "        if 'purchase_date' in self.data.columns:\n",
        "            self.data.dropna(subset=['purchase_date'], inplace=True)\n",
        "            self.data['purchase_date'] = pd.to_datetime(self.data['purchase_date'], errors='coerce')\n",
        "            print(\"Data After Transform:\")\n",
        "            print(self.data)\n",
        "        return self.data\n",
        "\n",
        "class TargetedMarketingETL(MarketingDataETL):\n",
        "    def __init__(self):\n",
        "        super().__init__()\n",
        "\n",
        "    def segment_customers(self):\n",
        "        if self.data is not None:\n",
        "            conditions = [\n",
        "                (self.data['amount_spent'] <= 100),\n",
        "                (self.data['amount_spent'] > 100) & (self.data['amount_spent'] <= 200),\n",
        "                (self.data['amount_spent'] > 200)\n",
        "            ]\n",
        "            choices = ['Low Spending', 'Medium Spending', 'High Spending']\n",
        "            self.data['spending_segment'] = pd.Series(np.select(conditions, choices), index=self.data.index)\n",
        "            print(\"Segmenting Customers Based on Spending:\")\n",
        "            print(self.data)\n",
        "\n",
        "    def transform(self):\n",
        "        super().transform()\n",
        "        self.segment_customers()\n",
        "\n",
        "    def store_segmented_data(self, output_file_path):\n",
        "        if self.data is not None:\n",
        "            try:\n",
        "                self.data.to_excel(output_file_path, index=False)\n",
        "                print(f\"Segmented Data Successfully Saved To {output_file_path}\")\n",
        "            except Exception as e:\n",
        "                print(f\"Error Saving Segmented Data: {e}\")\n",
        "\n",
        "targeted_marketing_etl = TargetedMarketingETL()\n",
        "targeted_marketing_etl.extract()\n",
        "targeted_marketing_etl.transform()\n",
        "targeted_marketing_etl.store_segmented_data(\"segmented_data_etl.xlsx\")"
      ],
      "metadata": {
        "colab": {
          "base_uri": "https://localhost:8080/"
        },
        "id": "02DL8Hkmj9A7",
        "outputId": "cfd2f54c-389a-4bea-f9d4-ddb437f860d3"
      },
      "execution_count": null,
      "outputs": [
        {
          "output_type": "stream",
          "name": "stdout",
          "text": [
            "Data Before Transform:\n",
            "  customer_id purchase_date product_category  amount_spent\n",
            "0        C001      01/03/23      Electronics        250.00\n",
            "1        C002      02/03/23            Books         45.50\n",
            "2        C003      03/03/23    Home & Garden        150.75\n",
            "3        C001      04/03/23            Books         20.00\n",
            "4        C002      05/03/23      Electronics        525.00\n",
            "5        C004           NaN      Electronics        399.99\n",
            "6        C003           NaN            Books         10.50\n",
            "7        C005      07/03/23           Beauty         75.00\n",
            "Data After Transform:\n",
            "  customer_id purchase_date product_category  amount_spent\n",
            "0        C001    2023-01-03      Electronics        250.00\n",
            "1        C002    2023-02-03            Books         45.50\n",
            "2        C003    2023-03-03    Home & Garden        150.75\n",
            "3        C001    2023-04-03            Books         20.00\n",
            "4        C002    2023-05-03      Electronics        525.00\n",
            "7        C005    2023-07-03           Beauty         75.00\n",
            "Segmenting Customers Based on Spending:\n",
            "  customer_id purchase_date product_category  amount_spent spending_segment\n",
            "0        C001    2023-01-03      Electronics        250.00    High Spending\n",
            "1        C002    2023-02-03            Books         45.50     Low Spending\n",
            "2        C003    2023-03-03    Home & Garden        150.75  Medium Spending\n",
            "3        C001    2023-04-03            Books         20.00     Low Spending\n",
            "4        C002    2023-05-03      Electronics        525.00    High Spending\n",
            "7        C005    2023-07-03           Beauty         75.00     Low Spending\n",
            "Segmented Data Successfully Saved To segmented_data_etl.xlsx\n"
          ]
        }
      ]
    }
  ]
}